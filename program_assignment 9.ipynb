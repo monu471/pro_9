{
 "cells": [
  {
   "cell_type": "code",
   "execution_count": null,
   "id": "495f5fa5",
   "metadata": {},
   "outputs": [],
   "source": [
    "#  Write a Python program to check if the given number is a Disarium Number?\n",
    "a = int(input(\"enter a number\\n\"))\n",
    "number = a\n",
    "p  = len(str(a))\n",
    "for i in range(p,0,-1):\n",
    "    if i <p:\n",
    "        break\n",
    "    sum = 0\n",
    "    power = len(str(a))\n",
    "    while(a>=1 and power >=1):\n",
    "        digit = a%10\n",
    "        sum = sum + (digit)**power\n",
    "        power = power -1\n",
    "        a = a//10\n",
    "    sum\n",
    "if sum == number:\n",
    "     print(\"number is disarium\")\n",
    "else:\n",
    "    print(\"number is not the disarium\")\n",
    "        "
   ]
  },
  {
   "cell_type": "code",
   "execution_count": null,
   "id": "c263276f",
   "metadata": {},
   "outputs": [],
   "source": [
    "# Write a Python program to print all disarium numbers between 1 to 100?\n",
    "a = 1\n",
    "b = 100\n",
    "for i in range(1,100):\n",
    "    num = i\n",
    "    sum = 0\n",
    "    power = len(str(i))\n",
    "    while(i>=1 and power >=1):\n",
    "        digit = i%10\n",
    "        sum = sum + (digit)**power\n",
    "        power = power -1\n",
    "        i = i//10\n",
    "    if sum == num:\n",
    "        print(num)\n",
    "\n",
    "                    \n",
    "        "
   ]
  },
  {
   "cell_type": "code",
   "execution_count": null,
   "id": "5f022a27",
   "metadata": {},
   "outputs": [],
   "source": [
    "# Write a Python program to check if the given number is Happy Number?\n",
    "def sum_digit(n):\n",
    "    sum = 0\n",
    "    rem = 0\n",
    "    while(n>0):\n",
    "        rem = n%10\n",
    "        sum = sum + rem*rem\n",
    "        n = n//10\n",
    "    return (sum)\n",
    "    \n",
    "n  = int(input(\"enter a number\\n\")) \n",
    "result = n\n",
    "while result!=1 and result!=4 :\n",
    "    result = sum_digit(result) \n",
    "if result == 1:\n",
    "    print(\"happy number\")\n",
    "else:\n",
    "    print(\"not the happy number\")\n",
    "    \n",
    "    \n",
    "\n"
   ]
  },
  {
   "cell_type": "code",
   "execution_count": null,
   "id": "2459e572",
   "metadata": {},
   "outputs": [],
   "source": [
    "# Write a Python program to print all happy numbers between 1 and 100?\n",
    "def sum_digit(num):\n",
    "    sum = 0\n",
    "    rem = 0\n",
    "    while(num>0):\n",
    "        rem = num%10\n",
    "        sum = sum + rem*rem\n",
    "        num = num//10\n",
    "    return (sum)  \n",
    "for i in range(1,101):\n",
    "    num = i\n",
    "    while num!=1 and num!=4 :\n",
    "        num = sum_digit(num)\n",
    "    if num == 1:\n",
    "        print(i,end =\" \")\n",
    "    \n",
    "    \n",
    "    \n",
    "    \n"
   ]
  },
  {
   "cell_type": "code",
   "execution_count": null,
   "id": "19262e58",
   "metadata": {},
   "outputs": [],
   "source": [
    "# Write a Python program to determine whether the given number is a Harshad Number?\n",
    "a  = int(input(\"enter a number\\n\"))\n",
    "l = []\n",
    "for i in str(a):\n",
    "    l.append(int(i))\n",
    "if a%(sum(l))==0:\n",
    "    print(\"number is harshad number\")\n",
    "else:\n",
    "    print(\"number is not harshad\")"
   ]
  },
  {
   "cell_type": "code",
   "execution_count": null,
   "id": "1c1624bc",
   "metadata": {},
   "outputs": [],
   "source": [
    "# Write a Python program to print all pronic numbers between 1 and 100?\n",
    "for i in range(2,101):\n",
    "    n = i\n",
    "    for j in range(1,101):\n",
    "        if i%j ==0:\n",
    "            if n == j*(j+1):\n",
    "                print(n)\n",
    "        \n",
    "    \n",
    "        \n",
    "    \n",
    "\n"
   ]
  },
  {
   "cell_type": "code",
   "execution_count": null,
   "id": "7da931d3",
   "metadata": {},
   "outputs": [],
   "source": []
  }
 ],
 "metadata": {
  "kernelspec": {
   "display_name": "Python 3 (ipykernel)",
   "language": "python",
   "name": "python3"
  },
  "language_info": {
   "codemirror_mode": {
    "name": "ipython",
    "version": 3
   },
   "file_extension": ".py",
   "mimetype": "text/x-python",
   "name": "python",
   "nbconvert_exporter": "python",
   "pygments_lexer": "ipython3",
   "version": "3.9.12"
  }
 },
 "nbformat": 4,
 "nbformat_minor": 5
}
